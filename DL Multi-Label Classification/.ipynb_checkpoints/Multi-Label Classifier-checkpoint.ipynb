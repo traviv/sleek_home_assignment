{
 "cells": [
  {
   "cell_type": "markdown",
   "id": "810aa39d",
   "metadata": {},
   "source": [
    "## Multi-Label Classifier with Feed-Forward Nural Netwark"
   ]
  },
  {
   "cell_type": "code",
   "execution_count": 16,
   "id": "2c99d393",
   "metadata": {},
   "outputs": [],
   "source": [
    "from tensorflow.keras.models import Sequential\n",
    "from tensorflow.keras.layers import Dense, Dropout\n",
    "from sklearn.preprocessing import RobustScaler, LabelEncoder\n",
    "from sklearn.model_selection import train_test_split\n",
    "from sklearn.metrics import classification_report"
   ]
  },
  {
   "cell_type": "code",
   "execution_count": 2,
   "id": "2b191391",
   "metadata": {},
   "outputs": [],
   "source": [
    "import pandas as pd\n",
    "import numpy as np"
   ]
  },
  {
   "cell_type": "code",
   "execution_count": 3,
   "id": "f9224d57",
   "metadata": {},
   "outputs": [],
   "source": [
    "CICIDS_data = pd.read_csv('../Wednesday-workingHours.pcap_ISCX.csv')"
   ]
  },
  {
   "cell_type": "code",
   "execution_count": 4,
   "id": "3d6e640a",
   "metadata": {},
   "outputs": [],
   "source": [
    "# dropping duplications\n",
    "def find_duplicated_columns(df):\n",
    "    grouped_columns = []\n",
    "    seen_columns = set()\n",
    "    for col in df.columns:\n",
    "        if col not in seen_columns:\n",
    "            duplicates = [col] + [c for c in df.columns if c != col and df[col].equals(df[c])]\n",
    "            if len(duplicates)>1:\n",
    "                grouped_columns.extend(duplicates[1:])\n",
    "            seen_columns.update(duplicates)\n",
    "    return grouped_columns"
   ]
  },
  {
   "cell_type": "code",
   "execution_count": 5,
   "id": "53cdd4d5",
   "metadata": {},
   "outputs": [],
   "source": [
    "# data preproccessing \n",
    "CICIDS_data.columns = [col.strip() for col in CICIDS_data.columns]\n",
    "CICIDS_data.drop(CICIDS_data.columns[CICIDS_data.eq(0).all()], axis=1, inplace=True)\n",
    "CICIDS_data.drop(find_duplicated_columns(CICIDS_data), axis=1, inplace=True)"
   ]
  },
  {
   "cell_type": "code",
   "execution_count": 6,
   "id": "5e1958d0",
   "metadata": {},
   "outputs": [],
   "source": [
    "# splitting my data into features (X) and target (y) ignoring the columns with inf values\n",
    "X = CICIDS_data.drop(['Label','Flow Bytes/s', 'Flow Packets/s'],axis=1).copy()\n",
    "y = CICIDS_data['Label'].copy()"
   ]
  },
  {
   "cell_type": "code",
   "execution_count": 7,
   "id": "6e01eb57",
   "metadata": {},
   "outputs": [],
   "source": [
    "# filling nan values with -1\n",
    "X.fillna(-1, inplace=True)"
   ]
  },
  {
   "cell_type": "code",
   "execution_count": 8,
   "id": "cc3db4ed",
   "metadata": {},
   "outputs": [],
   "source": [
    "# scaling my features\n",
    "scaler = RobustScaler()\n",
    "X_scaled = scaler.fit_transform(X)"
   ]
  },
  {
   "cell_type": "code",
   "execution_count": 9,
   "id": "81dd7f0d",
   "metadata": {},
   "outputs": [],
   "source": [
    "# encoding my categorical labels\n",
    "label_encoder = LabelEncoder()\n",
    "y_encoded = label_encoder.fit_transform(y)"
   ]
  },
  {
   "cell_type": "code",
   "execution_count": 10,
   "id": "52027ca1",
   "metadata": {},
   "outputs": [],
   "source": [
    "# splitting the data into train and test\n",
    "X_train, X_test, y_train, y_test = train_test_split(X_scaled, y_encoded, test_size=0.2, random_state=42)"
   ]
  },
  {
   "cell_type": "code",
   "execution_count": 11,
   "id": "5fe609a3",
   "metadata": {},
   "outputs": [
    {
     "name": "stderr",
     "output_type": "stream",
     "text": [
      "2024-07-18 13:24:21.882638: I tensorflow/core/platform/cpu_feature_guard.cc:142] This TensorFlow binary is optimized with oneAPI Deep Neural Network Library (oneDNN) to use the following CPU instructions in performance-critical operations:  AVX2 FMA\n",
      "To enable them in other operations, rebuild TensorFlow with the appropriate compiler flags.\n"
     ]
    }
   ],
   "source": [
    "# building the model with 3 hidden layers\n",
    "model = Sequential([\n",
    "    Dense(64, input_dim=X_train.shape[1], activation='relu'),\n",
    "    Dense(32, activation='relu'),\n",
    "    Dense(16, activation='relu'),\n",
    "    Dense(len(label_encoder.classes_), activation='softmax')\n",
    "])"
   ]
  },
  {
   "cell_type": "code",
   "execution_count": 12,
   "id": "ef7a0116",
   "metadata": {},
   "outputs": [],
   "source": [
    "# compailing the model with hyper parameters\n",
    "model.compile(optimizer='adam', loss='sparse_categorical_crossentropy', metrics=['accuracy'])"
   ]
  },
  {
   "cell_type": "code",
   "execution_count": 13,
   "id": "130c06c9",
   "metadata": {},
   "outputs": [
    {
     "name": "stderr",
     "output_type": "stream",
     "text": [
      "2024-07-18 13:24:22.031883: I tensorflow/compiler/mlir/mlir_graph_optimization_pass.cc:185] None of the MLIR Optimization Passes are enabled (registered 2)\n"
     ]
    },
    {
     "name": "stdout",
     "output_type": "stream",
     "text": [
      "Epoch 1/20\n",
      "13855/13855 [==============================] - 12s 806us/step - loss: 363.9926 - accuracy: 0.9158 - val_loss: 0.1837 - val_accuracy: 0.9601\n",
      "Epoch 2/20\n",
      "13855/13855 [==============================] - 11s 805us/step - loss: 0.3126 - accuracy: 0.9613 - val_loss: 0.1592 - val_accuracy: 0.9621\n",
      "Epoch 3/20\n",
      "13855/13855 [==============================] - 11s 761us/step - loss: 0.4988 - accuracy: 0.9619 - val_loss: 0.1989 - val_accuracy: 0.9624\n",
      "Epoch 4/20\n",
      "13855/13855 [==============================] - 12s 860us/step - loss: 0.2791 - accuracy: 0.9210 - val_loss: 0.2771 - val_accuracy: 0.8993\n",
      "Epoch 5/20\n",
      "13855/13855 [==============================] - 11s 825us/step - loss: 0.3165 - accuracy: 0.8992 - val_loss: 0.2704 - val_accuracy: 0.9018\n",
      "Epoch 6/20\n",
      "13855/13855 [==============================] - 12s 843us/step - loss: 0.3855 - accuracy: 0.8994 - val_loss: 0.2733 - val_accuracy: 0.8997\n",
      "Epoch 7/20\n",
      "13855/13855 [==============================] - 11s 798us/step - loss: 0.7674 - accuracy: 0.8994 - val_loss: 0.2793 - val_accuracy: 0.8998\n",
      "Epoch 8/20\n",
      "13855/13855 [==============================] - 11s 822us/step - loss: 0.3707 - accuracy: 0.8995 - val_loss: 0.2620 - val_accuracy: 0.9001\n",
      "Epoch 9/20\n",
      "13855/13855 [==============================] - 11s 829us/step - loss: 0.2878 - accuracy: 0.8998 - val_loss: 0.2659 - val_accuracy: 0.9021\n",
      "Epoch 10/20\n",
      "13855/13855 [==============================] - 11s 790us/step - loss: 0.3648 - accuracy: 0.8996 - val_loss: 0.2996 - val_accuracy: 0.8996\n",
      "Epoch 11/20\n",
      "13855/13855 [==============================] - 11s 802us/step - loss: 0.5041 - accuracy: 0.8997 - val_loss: 0.2306 - val_accuracy: 0.9000\n",
      "Epoch 12/20\n",
      "13855/13855 [==============================] - 12s 845us/step - loss: 6.5739 - accuracy: 0.8995 - val_loss: 0.3518 - val_accuracy: 0.8996\n",
      "Epoch 13/20\n",
      "13855/13855 [==============================] - 12s 838us/step - loss: 0.4948 - accuracy: 0.8995 - val_loss: 0.2657 - val_accuracy: 0.9002\n",
      "Epoch 14/20\n",
      "13855/13855 [==============================] - 10s 726us/step - loss: 0.6416 - accuracy: 0.9001 - val_loss: 0.2483 - val_accuracy: 0.9023\n",
      "Epoch 15/20\n",
      "13855/13855 [==============================] - 13s 934us/step - loss: 1.3593 - accuracy: 0.9018 - val_loss: 0.2219 - val_accuracy: 0.9023\n",
      "Epoch 16/20\n",
      "13855/13855 [==============================] - 11s 799us/step - loss: 1.5120 - accuracy: 0.9010 - val_loss: 0.2929 - val_accuracy: 0.9019\n",
      "Epoch 17/20\n",
      "13855/13855 [==============================] - 12s 890us/step - loss: 0.4491 - accuracy: 0.9013 - val_loss: 0.5218 - val_accuracy: 0.9016\n",
      "Epoch 18/20\n",
      "13855/13855 [==============================] - 10s 734us/step - loss: 0.4671 - accuracy: 0.9009 - val_loss: 0.2748 - val_accuracy: 0.9004\n",
      "Epoch 19/20\n",
      "13855/13855 [==============================] - 11s 765us/step - loss: 0.2931 - accuracy: 0.9007 - val_loss: 0.2298 - val_accuracy: 0.9005\n",
      "Epoch 20/20\n",
      "13855/13855 [==============================] - 11s 798us/step - loss: 0.7193 - accuracy: 0.9000 - val_loss: 0.2312 - val_accuracy: 0.9004\n"
     ]
    }
   ],
   "source": [
    "# training the model with the training set\n",
    "history = model.fit(X_train, y_train, epochs=20, batch_size=32, validation_split=0.2)"
   ]
  },
  {
   "cell_type": "code",
   "execution_count": 14,
   "id": "c2ff6ef7",
   "metadata": {},
   "outputs": [],
   "source": [
    "# predicting the classes in the test set\n",
    "y_pred = np.argmax(model.predict(X_test), axis=1)"
   ]
  },
  {
   "cell_type": "code",
   "execution_count": 17,
   "id": "433a2d38",
   "metadata": {},
   "outputs": [
    {
     "name": "stdout",
     "output_type": "stream",
     "text": [
      "                  precision    recall  f1-score   support\n",
      "\n",
      "          BENIGN       0.87      1.00      0.93     88170\n",
      "   DoS GoldenEye       0.99      0.58      0.74      2017\n",
      "        DoS Hulk       1.00      0.77      0.87     46147\n",
      "DoS Slowhttptest       0.88      0.12      0.21      1090\n",
      "   DoS slowloris       0.96      0.05      0.09      1114\n",
      "      Heartbleed       0.00      0.00      0.00         3\n",
      "\n",
      "        accuracy                           0.90    138541\n",
      "       macro avg       0.78      0.42      0.47    138541\n",
      "    weighted avg       0.91      0.90      0.89    138541\n",
      "\n"
     ]
    },
    {
     "name": "stderr",
     "output_type": "stream",
     "text": [
      "/Users/traviv/opt/anaconda3/lib/python3.8/site-packages/sklearn/metrics/_classification.py:1471: UndefinedMetricWarning: Precision and F-score are ill-defined and being set to 0.0 in labels with no predicted samples. Use `zero_division` parameter to control this behavior.\n",
      "  _warn_prf(average, modifier, msg_start, len(result))\n",
      "/Users/traviv/opt/anaconda3/lib/python3.8/site-packages/sklearn/metrics/_classification.py:1471: UndefinedMetricWarning: Precision and F-score are ill-defined and being set to 0.0 in labels with no predicted samples. Use `zero_division` parameter to control this behavior.\n",
      "  _warn_prf(average, modifier, msg_start, len(result))\n",
      "/Users/traviv/opt/anaconda3/lib/python3.8/site-packages/sklearn/metrics/_classification.py:1471: UndefinedMetricWarning: Precision and F-score are ill-defined and being set to 0.0 in labels with no predicted samples. Use `zero_division` parameter to control this behavior.\n",
      "  _warn_prf(average, modifier, msg_start, len(result))\n"
     ]
    },
    {
     "ename": "NameError",
     "evalue": "name 'confusion_matrix' is not defined",
     "output_type": "error",
     "traceback": [
      "\u001b[0;31m---------------------------------------------------------------------------\u001b[0m",
      "\u001b[0;31mNameError\u001b[0m                                 Traceback (most recent call last)",
      "Cell \u001b[0;32mIn[17], line 3\u001b[0m\n\u001b[1;32m      1\u001b[0m \u001b[38;5;66;03m# evaluating the model performance \u001b[39;00m\n\u001b[1;32m      2\u001b[0m \u001b[38;5;28mprint\u001b[39m(classification_report(y_test, y_pred, target_names\u001b[38;5;241m=\u001b[39mlabel_encoder\u001b[38;5;241m.\u001b[39mclasses_))\n\u001b[0;32m----> 3\u001b[0m \u001b[38;5;28mprint\u001b[39m(\u001b[43mconfusion_matrix\u001b[49m(y_test, y_pred))\n",
      "\u001b[0;31mNameError\u001b[0m: name 'confusion_matrix' is not defined"
     ]
    }
   ],
   "source": [
    "# evaluating the model performance \n",
    "print(classification_report(y_test, y_pred, target_names=label_encoder.classes_))\n",
    "print(confusion_matrix(y_test, y_pred))"
   ]
  },
  {
   "cell_type": "code",
   "execution_count": null,
   "id": "d9f2a270",
   "metadata": {},
   "outputs": [],
   "source": []
  }
 ],
 "metadata": {
  "kernelspec": {
   "display_name": "Python 3 (ipykernel)",
   "language": "python",
   "name": "python3"
  },
  "language_info": {
   "codemirror_mode": {
    "name": "ipython",
    "version": 3
   },
   "file_extension": ".py",
   "mimetype": "text/x-python",
   "name": "python",
   "nbconvert_exporter": "python",
   "pygments_lexer": "ipython3",
   "version": "3.8.8"
  }
 },
 "nbformat": 4,
 "nbformat_minor": 5
}
