{
 "cells": [
  {
   "cell_type": "markdown",
   "id": "810aa39d",
   "metadata": {},
   "source": [
    "## Multi-Label Classifier with Feed-Forward Nural Netwark"
   ]
  },
  {
   "cell_type": "code",
   "execution_count": 1,
   "id": "2c99d393",
   "metadata": {},
   "outputs": [],
   "source": [
    "from tensorflow.keras.models import Sequential\n",
    "from tensorflow.keras.layers import Dense, Dropout\n",
    "from sklearn.preprocessing import RobustScaler, LabelEncoder\n",
    "from sklearn.model_selection import train_test_split\n",
    "from sklearn.metrics import classification_report, confusion_matrix"
   ]
  },
  {
   "cell_type": "code",
   "execution_count": 2,
   "id": "2b191391",
   "metadata": {},
   "outputs": [],
   "source": [
    "import pandas as pd\n",
    "import numpy as np"
   ]
  },
  {
   "cell_type": "code",
   "execution_count": 3,
   "id": "f9224d57",
   "metadata": {},
   "outputs": [],
   "source": [
    "CICIDS_data = pd.read_csv('../Wednesday-workingHours.pcap_ISCX.csv')"
   ]
  },
  {
   "cell_type": "code",
   "execution_count": 4,
   "id": "3d6e640a",
   "metadata": {},
   "outputs": [],
   "source": [
    "# dropping duplications\n",
    "def find_duplicated_columns(df):\n",
    "    grouped_columns = []\n",
    "    seen_columns = set()\n",
    "    for col in df.columns:\n",
    "        if col not in seen_columns:\n",
    "            duplicates = [col] + [c for c in df.columns if c != col and df[col].equals(df[c])]\n",
    "            if len(duplicates)>1:\n",
    "                grouped_columns.extend(duplicates[1:])\n",
    "            seen_columns.update(duplicates)\n",
    "    return grouped_columns"
   ]
  },
  {
   "cell_type": "code",
   "execution_count": 5,
   "id": "53cdd4d5",
   "metadata": {},
   "outputs": [],
   "source": [
    "# data preproccessing \n",
    "CICIDS_data.columns = [col.strip() for col in CICIDS_data.columns]\n",
    "CICIDS_data.drop(CICIDS_data.columns[CICIDS_data.eq(0).all()], axis=1, inplace=True)\n",
    "CICIDS_data.drop(find_duplicated_columns(CICIDS_data), axis=1, inplace=True)"
   ]
  },
  {
   "cell_type": "code",
   "execution_count": 6,
   "id": "5e1958d0",
   "metadata": {},
   "outputs": [],
   "source": [
    "# splitting my data into features (X) and target (y) ignoring the columns with inf values\n",
    "X = CICIDS_data.drop(['Label','Flow Bytes/s', 'Flow Packets/s'],axis=1).copy()\n",
    "y = CICIDS_data['Label'].copy()"
   ]
  },
  {
   "cell_type": "code",
   "execution_count": 7,
   "id": "6e01eb57",
   "metadata": {},
   "outputs": [],
   "source": [
    "# filling nan values with -1\n",
    "X.fillna(-1, inplace=True)"
   ]
  },
  {
   "cell_type": "code",
   "execution_count": 8,
   "id": "cc3db4ed",
   "metadata": {},
   "outputs": [],
   "source": [
    "# scaling my features\n",
    "scaler = RobustScaler()\n",
    "X_scaled = scaler.fit_transform(X)"
   ]
  },
  {
   "cell_type": "code",
   "execution_count": 9,
   "id": "81dd7f0d",
   "metadata": {},
   "outputs": [],
   "source": [
    "# encoding my categorical labels\n",
    "label_encoder = LabelEncoder()\n",
    "y_encoded = label_encoder.fit_transform(y)"
   ]
  },
  {
   "cell_type": "code",
   "execution_count": 10,
   "id": "52027ca1",
   "metadata": {},
   "outputs": [],
   "source": [
    "# splitting the data into train and test\n",
    "X_train, X_test, y_train, y_test = train_test_split(X_scaled, y_encoded, test_size=0.2, random_state=42)"
   ]
  },
  {
   "cell_type": "code",
   "execution_count": 11,
   "id": "5fe609a3",
   "metadata": {},
   "outputs": [
    {
     "name": "stderr",
     "output_type": "stream",
     "text": [
      "2024-07-18 13:59:12.074191: I tensorflow/core/platform/cpu_feature_guard.cc:142] This TensorFlow binary is optimized with oneAPI Deep Neural Network Library (oneDNN) to use the following CPU instructions in performance-critical operations:  AVX2 FMA\n",
      "To enable them in other operations, rebuild TensorFlow with the appropriate compiler flags.\n"
     ]
    }
   ],
   "source": [
    "# building the model with 3 hidden layers\n",
    "model = Sequential([\n",
    "    Dense(64, input_dim=X_train.shape[1], activation='relu'),\n",
    "    Dense(32, activation='relu'),\n",
    "    Dense(16, activation='relu'),\n",
    "    Dense(len(label_encoder.classes_), activation='softmax')\n",
    "])"
   ]
  },
  {
   "cell_type": "code",
   "execution_count": 12,
   "id": "ef7a0116",
   "metadata": {},
   "outputs": [],
   "source": [
    "# compailing the model with hyper parameters\n",
    "model.compile(optimizer='adam', loss='sparse_categorical_crossentropy', metrics=['accuracy'])"
   ]
  },
  {
   "cell_type": "code",
   "execution_count": 13,
   "id": "130c06c9",
   "metadata": {},
   "outputs": [
    {
     "name": "stderr",
     "output_type": "stream",
     "text": [
      "2024-07-18 13:59:12.213725: I tensorflow/compiler/mlir/mlir_graph_optimization_pass.cc:185] None of the MLIR Optimization Passes are enabled (registered 2)\n"
     ]
    },
    {
     "name": "stdout",
     "output_type": "stream",
     "text": [
      "Epoch 1/20\n",
      "13855/13855 [==============================] - 11s 769us/step - loss: 742.4066 - accuracy: 0.9426 - val_loss: 0.3756 - val_accuracy: 0.9584\n",
      "Epoch 2/20\n",
      "13855/13855 [==============================] - 11s 811us/step - loss: 0.6252 - accuracy: 0.9612 - val_loss: 0.1929 - val_accuracy: 0.9639\n",
      "Epoch 3/20\n",
      "13855/13855 [==============================] - 10s 726us/step - loss: 0.2485 - accuracy: 0.9638 - val_loss: 0.1544 - val_accuracy: 0.9626\n",
      "Epoch 4/20\n",
      "13855/13855 [==============================] - 11s 775us/step - loss: 0.4285 - accuracy: 0.9649 - val_loss: 0.1485 - val_accuracy: 0.9632\n",
      "Epoch 5/20\n",
      "13855/13855 [==============================] - 12s 841us/step - loss: 0.1621 - accuracy: 0.9647 - val_loss: 0.1245 - val_accuracy: 0.9664\n",
      "Epoch 6/20\n",
      "13855/13855 [==============================] - 10s 754us/step - loss: 1.6649 - accuracy: 0.9669 - val_loss: 0.1360 - val_accuracy: 0.9697\n",
      "Epoch 7/20\n",
      "13855/13855 [==============================] - 16s 1ms/step - loss: 0.2117 - accuracy: 0.9686 - val_loss: 0.1411 - val_accuracy: 0.9684\n",
      "Epoch 8/20\n",
      "13855/13855 [==============================] - 11s 810us/step - loss: 0.6559 - accuracy: 0.9683 - val_loss: 0.1792 - val_accuracy: 0.9634\n",
      "Epoch 9/20\n",
      "13855/13855 [==============================] - 10s 746us/step - loss: 0.5240 - accuracy: 0.9640 - val_loss: 0.1496 - val_accuracy: 0.9622\n",
      "Epoch 10/20\n",
      "13855/13855 [==============================] - 10s 733us/step - loss: 0.1896 - accuracy: 0.9651 - val_loss: 0.1529 - val_accuracy: 0.9646\n",
      "Epoch 11/20\n",
      "13855/13855 [==============================] - 11s 794us/step - loss: 0.2899 - accuracy: 0.9651 - val_loss: 0.1552 - val_accuracy: 0.9634\n",
      "Epoch 12/20\n",
      "13855/13855 [==============================] - 9s 677us/step - loss: 0.2405 - accuracy: 0.9647 - val_loss: 0.1550 - val_accuracy: 0.9634\n",
      "Epoch 13/20\n",
      "13855/13855 [==============================] - 10s 698us/step - loss: 0.2244 - accuracy: 0.9635 - val_loss: 1.0342 - val_accuracy: 0.9634\n",
      "Epoch 14/20\n",
      "13855/13855 [==============================] - 10s 750us/step - loss: 0.2595 - accuracy: 0.9440 - val_loss: 0.2967 - val_accuracy: 0.8989\n",
      "Epoch 15/20\n",
      "13855/13855 [==============================] - 11s 797us/step - loss: 0.3069 - accuracy: 0.9343 - val_loss: 0.1540 - val_accuracy: 0.9656\n",
      "Epoch 16/20\n",
      "13855/13855 [==============================] - 11s 769us/step - loss: 1.7368 - accuracy: 0.9639 - val_loss: 0.1515 - val_accuracy: 0.9634\n",
      "Epoch 17/20\n",
      "13855/13855 [==============================] - 10s 756us/step - loss: 4.4850 - accuracy: 0.9644 - val_loss: 0.2284 - val_accuracy: 0.9636\n",
      "Epoch 18/20\n",
      "13855/13855 [==============================] - 10s 711us/step - loss: 0.3243 - accuracy: 0.9641 - val_loss: 0.1588 - val_accuracy: 0.9634\n",
      "Epoch 19/20\n",
      "13855/13855 [==============================] - 10s 728us/step - loss: 0.3127 - accuracy: 0.9648 - val_loss: 0.2031 - val_accuracy: 0.9634\n",
      "Epoch 20/20\n",
      "13855/13855 [==============================] - 10s 743us/step - loss: 0.3218 - accuracy: 0.9634 - val_loss: 0.1459 - val_accuracy: 0.9630\n"
     ]
    }
   ],
   "source": [
    "# training the model with the training set\n",
    "history = model.fit(X_train, y_train, epochs=20, batch_size=32, validation_split=0.2)"
   ]
  },
  {
   "cell_type": "code",
   "execution_count": 14,
   "id": "c2ff6ef7",
   "metadata": {},
   "outputs": [],
   "source": [
    "# predicting the classes in the test set\n",
    "y_pred = np.argmax(model.predict(X_test), axis=1)"
   ]
  },
  {
   "cell_type": "code",
   "execution_count": 15,
   "id": "433a2d38",
   "metadata": {},
   "outputs": [
    {
     "name": "stdout",
     "output_type": "stream",
     "text": [
      "                  precision    recall  f1-score   support\n",
      "\n",
      "          BENIGN       0.95      1.00      0.97     88170\n",
      "   DoS GoldenEye       1.00      0.58      0.74      2017\n",
      "        DoS Hulk       1.00      0.96      0.98     46147\n",
      "DoS Slowhttptest       1.00      0.07      0.14      1090\n",
      "   DoS slowloris       1.00      0.02      0.04      1114\n",
      "      Heartbleed       0.00      0.00      0.00         3\n",
      "\n",
      "        accuracy                           0.96    138541\n",
      "       macro avg       0.82      0.44      0.48    138541\n",
      "    weighted avg       0.97      0.96      0.96    138541\n",
      "\n",
      "[[88078     1    91     0     0     0]\n",
      " [  836  1179     2     0     0     0]\n",
      " [ 2005     1 44141     0     0     0]\n",
      " [ 1009     0     0    81     0     0]\n",
      " [ 1092     0     1     0    21     0]\n",
      " [    3     0     0     0     0     0]]\n"
     ]
    },
    {
     "name": "stderr",
     "output_type": "stream",
     "text": [
      "/Users/traviv/opt/anaconda3/lib/python3.8/site-packages/sklearn/metrics/_classification.py:1471: UndefinedMetricWarning: Precision and F-score are ill-defined and being set to 0.0 in labels with no predicted samples. Use `zero_division` parameter to control this behavior.\n",
      "  _warn_prf(average, modifier, msg_start, len(result))\n",
      "/Users/traviv/opt/anaconda3/lib/python3.8/site-packages/sklearn/metrics/_classification.py:1471: UndefinedMetricWarning: Precision and F-score are ill-defined and being set to 0.0 in labels with no predicted samples. Use `zero_division` parameter to control this behavior.\n",
      "  _warn_prf(average, modifier, msg_start, len(result))\n",
      "/Users/traviv/opt/anaconda3/lib/python3.8/site-packages/sklearn/metrics/_classification.py:1471: UndefinedMetricWarning: Precision and F-score are ill-defined and being set to 0.0 in labels with no predicted samples. Use `zero_division` parameter to control this behavior.\n",
      "  _warn_prf(average, modifier, msg_start, len(result))\n"
     ]
    }
   ],
   "source": [
    "# evaluating the model performance \n",
    "print(classification_report(y_test, y_pred, target_names=label_encoder.classes_))\n",
    "print(confusion_matrix(y_test, y_pred))"
   ]
  },
  {
   "cell_type": "code",
   "execution_count": null,
   "id": "d9f2a270",
   "metadata": {},
   "outputs": [],
   "source": []
  }
 ],
 "metadata": {
  "kernelspec": {
   "display_name": "Python 3 (ipykernel)",
   "language": "python",
   "name": "python3"
  },
  "language_info": {
   "codemirror_mode": {
    "name": "ipython",
    "version": 3
   },
   "file_extension": ".py",
   "mimetype": "text/x-python",
   "name": "python",
   "nbconvert_exporter": "python",
   "pygments_lexer": "ipython3",
   "version": "3.8.8"
  }
 },
 "nbformat": 4,
 "nbformat_minor": 5
}
