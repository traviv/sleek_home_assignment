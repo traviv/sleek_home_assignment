{
 "cells": [
  {
   "cell_type": "markdown",
   "id": "e6584339",
   "metadata": {},
   "source": [
    "## Anomaly Detection with Isolation Forest"
   ]
  },
  {
   "cell_type": "code",
   "execution_count": 1,
   "id": "ae4dfeb1",
   "metadata": {},
   "outputs": [],
   "source": [
    "from sklearn.ensemble import IsolationForest\n",
    "from sklearn.preprocessing import StandardScaler, RobustScaler\n",
    "from sklearn.metrics import classification_report, confusion_matrix\n",
    "from collections import Counter"
   ]
  },
  {
   "cell_type": "code",
   "execution_count": 2,
   "id": "6599e128",
   "metadata": {},
   "outputs": [],
   "source": [
    "import pandas as pd\n",
    "import matplotlib.pyplot as plt\n",
    "import numpy as np\n",
    "import seaborn as sns"
   ]
  },
  {
   "cell_type": "code",
   "execution_count": null,
   "id": "b6515cfb",
   "metadata": {},
   "outputs": [],
   "source": [
    "CICIDS_data = pd.read_csv('../Wednesday-workingHours.pcap_ISCX.csv')"
   ]
  },
  {
   "cell_type": "code",
   "execution_count": null,
   "id": "bac52e1d",
   "metadata": {},
   "outputs": [],
   "source": [
    "# dropping duplications\n",
    "def find_duplicated_columns(df):\n",
    "    grouped_columns = []\n",
    "    seen_columns = set()\n",
    "    for col in df.columns:\n",
    "        if col not in seen_columns:\n",
    "            duplicates = [col] + [c for c in df.columns if c != col and df[col].equals(df[c])]\n",
    "            if len(duplicates)>1:\n",
    "                grouped_columns.extend(duplicates[1:])\n",
    "            seen_columns.update(duplicates)\n",
    "    return grouped_columns"
   ]
  },
  {
   "cell_type": "code",
   "execution_count": null,
   "id": "e08152de",
   "metadata": {},
   "outputs": [],
   "source": [
    "# data preproccessing \n",
    "CICIDS_data.columns = [col.strip() for col in CICIDS_data.columns]\n",
    "CICIDS_data.drop(CICIDS_data.columns[CICIDS_data.eq(0).all()], axis=1, inplace=True)\n",
    "CICIDS_data.drop(find_duplicated_columns(CICIDS_data), axis=1, inplace=True)"
   ]
  },
  {
   "cell_type": "code",
   "execution_count": null,
   "id": "9299093d",
   "metadata": {},
   "outputs": [],
   "source": [
    "# encoding the labels to be 1 for BENIGN and -1 for all else\n",
    "CICIDS_data['Label_encoded'] = CICIDS_data['Label'].apply(lambda x:1 if x=='BENIGN' else -1)"
   ]
  },
  {
   "cell_type": "code",
   "execution_count": null,
   "id": "3f776bf7",
   "metadata": {},
   "outputs": [],
   "source": [
    "# splitting my data into features (X) and target (y) ignoring the columns with inf values\n",
    "X = CICIDS_data.drop(['Label','Flow Bytes/s', 'Flow Packets/s', 'Label_encoded'],axis=1).copy()\n",
    "y = CICIDS_data['Label_encoded'].copy()"
   ]
  },
  {
   "cell_type": "code",
   "execution_count": null,
   "id": "310201d4",
   "metadata": {},
   "outputs": [],
   "source": [
    "# filling nan values with -1\n",
    "X.fillna(-1, inplace=True) "
   ]
  },
  {
   "cell_type": "code",
   "execution_count": null,
   "id": "505e7084",
   "metadata": {},
   "outputs": [],
   "source": [
    "# scaling my features\n",
    "scaler = RobustScaler()\n",
    "X_scaled = scaler.fit_transform(X)"
   ]
  },
  {
   "cell_type": "code",
   "execution_count": null,
   "id": "36a91786",
   "metadata": {},
   "outputs": [],
   "source": [
    "# calculating the anomaly contamination\n",
    "contamination = y.value_counts()[-1]/len(y)\n",
    "contamination"
   ]
  },
  {
   "cell_type": "code",
   "execution_count": null,
   "id": "22952271",
   "metadata": {},
   "outputs": [],
   "source": [
    "# building the model\n",
    "model = IsolationForest(contamination=contamination, random_state=42)"
   ]
  },
  {
   "cell_type": "code",
   "execution_count": null,
   "id": "8b7809b7",
   "metadata": {},
   "outputs": [],
   "source": [
    "# training the model and predicting the anomalies\n",
    "model.fit(X_scaled)\n",
    "predictions = model.predict(X_scaled)"
   ]
  },
  {
   "cell_type": "code",
   "execution_count": null,
   "id": "67954a54",
   "metadata": {},
   "outputs": [],
   "source": [
    "# evaluating the model performance\n",
    "print(\"Classification Report:\")\n",
    "print(classification_report(y, predictions))"
   ]
  },
  {
   "cell_type": "code",
   "execution_count": null,
   "id": "8ca35f97",
   "metadata": {},
   "outputs": [],
   "source": [
    "# Confusion Matrix\n",
    "cm = confusion_matrix(y, predictions)"
   ]
  }
 ],
 "metadata": {
  "kernelspec": {
   "display_name": "Python 3 (ipykernel)",
   "language": "python",
   "name": "python3"
  },
  "language_info": {
   "codemirror_mode": {
    "name": "ipython",
    "version": 3
   },
   "file_extension": ".py",
   "mimetype": "text/x-python",
   "name": "python",
   "nbconvert_exporter": "python",
   "pygments_lexer": "ipython3",
   "version": "3.8.8"
  }
 },
 "nbformat": 4,
 "nbformat_minor": 5
}
